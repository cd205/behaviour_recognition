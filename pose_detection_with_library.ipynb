{
 "cells": [
  {
   "cell_type": "code",
   "execution_count": 1,
   "metadata": {},
   "outputs": [
    {
     "name": "stdout",
     "output_type": "stream",
     "text": [
      "downloading model weights, this may take a while ...\n"
     ]
    },
    {
     "ename": "ValueError",
     "evalue": "There must be exactly one face in the image!",
     "output_type": "error",
     "traceback": [
      "\u001b[1;31m---------------------------------------------------------------------------\u001b[0m",
      "\u001b[1;31mValueError\u001b[0m                                Traceback (most recent call last)",
      "\u001b[1;32mc:\\Users\\chris\\source\\repos\\behaviour_recognition\\behaviour_recognition\\pose_detection_with_library.ipynb Cell 1\u001b[0m in \u001b[0;36m<cell line: 13>\u001b[1;34m()\u001b[0m\n\u001b[0;32m     <a href='vscode-notebook-cell:/c%3A/Users/chris/source/repos/behaviour_recognition/behaviour_recognition/pose_detection_with_library.ipynb#W0sZmlsZQ%3D%3D?line=9'>10</a>\u001b[0m image \u001b[39m=\u001b[39m cv2\u001b[39m.\u001b[39mcvtColor(image, cv2\u001b[39m.\u001b[39mCOLOR_BGR2GRAY)\n\u001b[0;32m     <a href='vscode-notebook-cell:/c%3A/Users/chris/source/repos/behaviour_recognition/behaviour_recognition/pose_detection_with_library.ipynb#W0sZmlsZQ%3D%3D?line=10'>11</a>\u001b[0m cam\u001b[39m.\u001b[39mrelease()\n\u001b[1;32m---> <a href='vscode-notebook-cell:/c%3A/Users/chris/source/repos/behaviour_recognition/behaviour_recognition/pose_detection_with_library.ipynb#W0sZmlsZQ%3D%3D?line=12'>13</a>\u001b[0m est\u001b[39m.\u001b[39;49mdetect_landmarks(image, plot\u001b[39m=\u001b[39;49m\u001b[39mTrue\u001b[39;49;00m)  \u001b[39m# plot the result of landmark detection\u001b[39;00m\n\u001b[0;32m     <a href='vscode-notebook-cell:/c%3A/Users/chris/source/repos/behaviour_recognition/behaviour_recognition/pose_detection_with_library.ipynb#W0sZmlsZQ%3D%3D?line=13'>14</a>\u001b[0m roll, pitch, yawn \u001b[39m=\u001b[39m est\u001b[39m.\u001b[39mpose_from_image(image)\n",
      "File \u001b[1;32mc:\\Users\\chris\\Anaconda3\\envs\\computer_vision\\lib\\site-packages\\headpose\\detect.py:43\u001b[0m, in \u001b[0;36mPoseEstimator.detect_landmarks\u001b[1;34m(self, image, plot)\u001b[0m\n\u001b[0;32m     41\u001b[0m faces \u001b[39m=\u001b[39m face_cascade\u001b[39m.\u001b[39mdetectMultiScale(image, \u001b[39m1.1\u001b[39m, \u001b[39m5\u001b[39m)\n\u001b[0;32m     42\u001b[0m \u001b[39mif\u001b[39;00m \u001b[39mlen\u001b[39m(faces) \u001b[39m!=\u001b[39m \u001b[39m1\u001b[39m:\n\u001b[1;32m---> 43\u001b[0m     \u001b[39mraise\u001b[39;00m \u001b[39mValueError\u001b[39;00m(\u001b[39m\"\u001b[39m\u001b[39mThere must be exactly one face in the image!\u001b[39m\u001b[39m\"\u001b[39m)\n\u001b[0;32m     44\u001b[0m \u001b[39mfor\u001b[39;00m (x, y, w, h) \u001b[39min\u001b[39;00m faces:\n\u001b[0;32m     45\u001b[0m     image_crop \u001b[39m=\u001b[39m image[y:y \u001b[39m+\u001b[39m h, x:x \u001b[39m+\u001b[39m w]\n",
      "\u001b[1;31mValueError\u001b[0m: There must be exactly one face in the image!"
     ]
    }
   ],
   "source": [
    "import cv2\n",
    "from headpose.detect import PoseEstimator\n",
    "\n",
    "est = PoseEstimator()  #load the model\n",
    "# take an image using the webcam (alternatively, you could load an image)\n",
    "cam = cv2.VideoCapture(0)\n",
    "for i in range(cv2.CAP_PROP_FRAME_COUNT):\n",
    "    cam.grab()\n",
    "ret, image = cam.retrieve()\n",
    "image = cv2.cvtColor(image, cv2.COLOR_BGR2GRAY)\n",
    "cam.release()\n",
    "\n",
    "est.detect_landmarks(image, plot=True)  # plot the result of landmark detection\n",
    "roll, pitch, yawn = est.pose_from_image(image)  # estimate the head pose"
   ]
  },
  {
   "cell_type": "code",
   "execution_count": null,
   "metadata": {},
   "outputs": [],
   "source": []
  }
 ],
 "metadata": {
  "kernelspec": {
   "display_name": "Python 3.9.12 ('computer_vision')",
   "language": "python",
   "name": "python3"
  },
  "language_info": {
   "codemirror_mode": {
    "name": "ipython",
    "version": 3
   },
   "file_extension": ".py",
   "mimetype": "text/x-python",
   "name": "python",
   "nbconvert_exporter": "python",
   "pygments_lexer": "ipython3",
   "version": "3.9.12"
  },
  "orig_nbformat": 4,
  "vscode": {
   "interpreter": {
    "hash": "0777b629fee9d2d81ecef945347a78c44178a54bd3f588c64ea08ff012c2b82a"
   }
  }
 },
 "nbformat": 4,
 "nbformat_minor": 2
}
