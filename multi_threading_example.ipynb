{
 "cells": [
  {
   "cell_type": "code",
   "execution_count": 2,
   "metadata": {},
   "outputs": [
    {
     "name": "stdout",
     "output_type": "stream",
     "text": [
      "Hello World\n",
      "Hello World\n",
      "Hello World\n",
      "Hello World\n"
     ]
    }
   ],
   "source": [
    "import threading \n",
    "import time\n",
    "import numpy as np\n",
    "import cv2\n",
    "\n",
    "#https://stackoverflow.com/questions/63345956/python-opencv-mutithreading-with-opecv-video-streaming\n",
    "\n",
    "# --- functions ---\n",
    "\n",
    "running = True\n",
    "\n",
    "def print_hello():\n",
    "    while running:\n",
    "        print(\"Hello World\")\n",
    "        time.sleep(3)\n",
    "\n",
    "# --- main ---\n",
    "\n",
    "t1 = threading.Thread(target=print_hello)  \n",
    "t1.start()\n",
    "\n",
    "# --- loop ---\n",
    "\n",
    "cap = cv2.VideoCapture(0)\n",
    "\n",
    "while True:\n",
    "    # Capture frame-by-frame\n",
    "    ret, frame = cap.read()\n",
    "\n",
    "    # Our operations on the frame come here\n",
    "    gray = cv2.cvtColor(frame, cv2.COLOR_BGR2GRAY)\n",
    "\n",
    "    # Display the resulting frame\n",
    "    cv2.imshow('frame',gray)\n",
    "\n",
    "    if cv2.waitKey(1) & 0xFF == ord('q'):\n",
    "        break\n",
    "\n",
    "# --- after loop ---\n",
    "\n",
    "running = False # to stop loop in thread\n",
    "t1.join()\n",
    "\n",
    "cap.release()\n",
    "cv2.destroyAllWindows()"
   ]
  },
  {
   "cell_type": "code",
   "execution_count": 1,
   "metadata": {},
   "outputs": [
    {
     "ename": "KeyboardInterrupt",
     "evalue": "",
     "output_type": "error",
     "traceback": [
      "\u001b[1;31m---------------------------------------------------------------------------\u001b[0m",
      "\u001b[1;31mKeyboardInterrupt\u001b[0m                         Traceback (most recent call last)",
      "\u001b[1;32mc:\\Users\\chris\\source\\repos\\behaviour_recognition\\behaviour_recognition\\multi_threading_example.ipynb Cell 1\u001b[0m in \u001b[0;36m<cell line: 28>\u001b[1;34m()\u001b[0m\n\u001b[0;32m     <a href='vscode-notebook-cell:/c%3A/Users/chris/source/repos/behaviour_recognition/behaviour_recognition/multi_threading_example.ipynb#ch0000000?line=29'>30</a>\u001b[0m \u001b[39mwhile\u001b[39;00m \u001b[39mTrue\u001b[39;00m:\n\u001b[0;32m     <a href='vscode-notebook-cell:/c%3A/Users/chris/source/repos/behaviour_recognition/behaviour_recognition/multi_threading_example.ipynb#ch0000000?line=30'>31</a>\u001b[0m     \u001b[39mtry\u001b[39;00m:\n\u001b[1;32m---> <a href='vscode-notebook-cell:/c%3A/Users/chris/source/repos/behaviour_recognition/behaviour_recognition/multi_threading_example.ipynb#ch0000000?line=31'>32</a>\u001b[0m         video_stream_widget\u001b[39m.\u001b[39;49mshow_frame()\n\u001b[0;32m     <a href='vscode-notebook-cell:/c%3A/Users/chris/source/repos/behaviour_recognition/behaviour_recognition/multi_threading_example.ipynb#ch0000000?line=32'>33</a>\u001b[0m     \u001b[39mexcept\u001b[39;00m \u001b[39mAttributeError\u001b[39;00m:\n\u001b[0;32m     <a href='vscode-notebook-cell:/c%3A/Users/chris/source/repos/behaviour_recognition/behaviour_recognition/multi_threading_example.ipynb#ch0000000?line=33'>34</a>\u001b[0m         \u001b[39mpass\u001b[39;00m\n",
      "\u001b[1;32mc:\\Users\\chris\\source\\repos\\behaviour_recognition\\behaviour_recognition\\multi_threading_example.ipynb Cell 1\u001b[0m in \u001b[0;36mVideoStreamWidget.show_frame\u001b[1;34m(self)\u001b[0m\n\u001b[0;32m     <a href='vscode-notebook-cell:/c%3A/Users/chris/source/repos/behaviour_recognition/behaviour_recognition/multi_threading_example.ipynb#ch0000000?line=18'>19</a>\u001b[0m \u001b[39mdef\u001b[39;00m \u001b[39mshow_frame\u001b[39m(\u001b[39mself\u001b[39m):\n\u001b[0;32m     <a href='vscode-notebook-cell:/c%3A/Users/chris/source/repos/behaviour_recognition/behaviour_recognition/multi_threading_example.ipynb#ch0000000?line=19'>20</a>\u001b[0m     \u001b[39m# Display frames in main program\u001b[39;00m\n\u001b[0;32m     <a href='vscode-notebook-cell:/c%3A/Users/chris/source/repos/behaviour_recognition/behaviour_recognition/multi_threading_example.ipynb#ch0000000?line=20'>21</a>\u001b[0m     cv2\u001b[39m.\u001b[39mimshow(\u001b[39m'\u001b[39m\u001b[39mframe\u001b[39m\u001b[39m'\u001b[39m, \u001b[39mself\u001b[39m\u001b[39m.\u001b[39mframe)\n\u001b[1;32m---> <a href='vscode-notebook-cell:/c%3A/Users/chris/source/repos/behaviour_recognition/behaviour_recognition/multi_threading_example.ipynb#ch0000000?line=21'>22</a>\u001b[0m     key \u001b[39m=\u001b[39m cv2\u001b[39m.\u001b[39;49mwaitKey(\u001b[39m1\u001b[39;49m)\n\u001b[0;32m     <a href='vscode-notebook-cell:/c%3A/Users/chris/source/repos/behaviour_recognition/behaviour_recognition/multi_threading_example.ipynb#ch0000000?line=22'>23</a>\u001b[0m     \u001b[39mif\u001b[39;00m key \u001b[39m==\u001b[39m \u001b[39mord\u001b[39m(\u001b[39m'\u001b[39m\u001b[39mq\u001b[39m\u001b[39m'\u001b[39m):\n\u001b[0;32m     <a href='vscode-notebook-cell:/c%3A/Users/chris/source/repos/behaviour_recognition/behaviour_recognition/multi_threading_example.ipynb#ch0000000?line=23'>24</a>\u001b[0m         \u001b[39mself\u001b[39m\u001b[39m.\u001b[39mcapture\u001b[39m.\u001b[39mrelease()\n",
      "\u001b[1;31mKeyboardInterrupt\u001b[0m: "
     ]
    }
   ],
   "source": [
    "from threading import Thread\n",
    "import cv2, time\n",
    " \n",
    "class VideoStreamWidget(object):\n",
    "    def __init__(self, src=0):\n",
    "        self.capture = cv2.VideoCapture(src)\n",
    "        # Start the thread to read frames from the video stream\n",
    "        self.thread = Thread(target=self.update, args=())\n",
    "        self.thread.daemon = True\n",
    "        self.thread.start()\n",
    "\n",
    "    def update(self):\n",
    "        # Read the next frame from the stream in a different thread\n",
    "        while True:\n",
    "            if self.capture.isOpened():\n",
    "                (self.status, self.frame) = self.capture.read()\n",
    "            time.sleep(.01)\n",
    "    \n",
    "    def show_frame(self):\n",
    "        # Display frames in main program\n",
    "        cv2.imshow('frame', self.frame)\n",
    "        key = cv2.waitKey(1)\n",
    "        if key == ord('q'):\n",
    "            self.capture.release()\n",
    "            cv2.destroyAllWindows()\n",
    "            exit(1)\n",
    "\n",
    "if __name__ == '__main__':\n",
    "    video_stream_widget = VideoStreamWidget()\n",
    "    while True:\n",
    "        try:\n",
    "            video_stream_widget.show_frame()\n",
    "        except AttributeError:\n",
    "            pass"
   ]
  },
  {
   "cell_type": "markdown",
   "metadata": {},
   "source": [
    "## Simple threading\n",
    "\n",
    "https://www.youtube.com/watch?v=IEEhzQoKtQU"
   ]
  },
  {
   "cell_type": "code",
   "execution_count": 10,
   "metadata": {},
   "outputs": [
    {
     "name": "stdout",
     "output_type": "stream",
     "text": [
      "Sleeping 1 second\n",
      "Sleeping 1 second\n",
      "Sleeping 1 second\n",
      "Sleeping 1 second\n",
      "Sleeping 1 second\n",
      "Sleeping 1 second\n",
      "Sleeping 1 second\n",
      "Sleeping 1 second\n",
      "Sleeping 1 second\n",
      "Sleeping 1 second\n",
      "Done Sleeping.....\n",
      "Done Sleeping.....\n",
      "Done Sleeping.....\n",
      "Done Sleeping.....\n",
      "Done Sleeping.....\n",
      "Done Sleeping.....\n",
      "Done Sleeping.....\n",
      "Done Sleeping.....\n",
      "Done Sleeping.....\n",
      "Done Sleeping.....\n",
      "Finished in 1.02 second(s)\n"
     ]
    }
   ],
   "source": [
    "import threading\n",
    "import time\n",
    "\n",
    "start = time.perf_counter()\n",
    "\n",
    "\n",
    "def do_something():\n",
    "    print('Sleeping 1 second')\n",
    "    time.sleep(1)\n",
    "    print('Done Sleeping.....')\n",
    "\n",
    "threads = []\n",
    "\n",
    "for _ in range(10):\n",
    "    t = threading.Thread(target=do_something)\n",
    "    t.start()\n",
    "    threads.append(t)\n",
    "\n",
    "for thread in threads:\n",
    "    thread.join()   \n",
    "\n",
    "finish = time.perf_counter()\n",
    "\n",
    "print(f'Finished in {round(finish-start,2)} second(s)')"
   ]
  },
  {
   "cell_type": "markdown",
   "metadata": {},
   "source": [
    "## Passing seconds to sleep as an argumet"
   ]
  },
  {
   "cell_type": "code",
   "execution_count": 12,
   "metadata": {},
   "outputs": [
    {
     "name": "stdout",
     "output_type": "stream",
     "text": [
      "Sleeping 1.5 second(s)...\n",
      "Sleeping 1.5 second(s)...\n",
      "Sleeping 1.5 second(s)...\n",
      "Sleeping 1.5 second(s)...\n",
      "Sleeping 1.5 second(s)...\n",
      "Sleeping 1.5 second(s)...\n",
      "Sleeping 1.5 second(s)...\n",
      "Sleeping 1.5 second(s)...\n",
      "Sleeping 1.5 second(s)...\n",
      "Sleeping 1.5 second(s)...\n",
      "Done Sleeping.....Done Sleeping.....\n",
      "Done Sleeping.....\n",
      "Done Sleeping.....\n",
      "Done Sleeping.....\n",
      "Done Sleeping.....\n",
      "Done Sleeping.....\n",
      "Done Sleeping.....\n",
      "Done Sleeping.....\n",
      "\n",
      "Done Sleeping.....\n",
      "Finished in 1.53 second(s)\n"
     ]
    }
   ],
   "source": [
    "import threading\n",
    "import time\n",
    "\n",
    "start = time.perf_counter()\n",
    "\n",
    "\n",
    "def do_something(seconds):\n",
    "    print(f'Sleeping {seconds} second(s)...')\n",
    "    time.sleep(seconds)\n",
    "    print('Done Sleeping.....')\n",
    "\n",
    "threads = []\n",
    "\n",
    "for _ in range(10):\n",
    "    t = threading.Thread(target=do_something, args=[1.5])\n",
    "    t.start()\n",
    "    threads.append(t)\n",
    "\n",
    "for thread in threads:\n",
    "    thread.join()   \n",
    "\n",
    "finish = time.perf_counter()\n",
    "\n",
    "print(f'Finished in {round(finish-start,2)} second(s)')"
   ]
  },
  {
   "cell_type": "markdown",
   "metadata": {},
   "source": [
    "## Concurrent method runing f1 process manually"
   ]
  },
  {
   "cell_type": "code",
   "execution_count": 17,
   "metadata": {},
   "outputs": [
    {
     "name": "stdout",
     "output_type": "stream",
     "text": [
      "Sleeping 1 second(s)...\n",
      "Sleeping 1 second(s)...\n",
      "Done Sleeping...\n",
      "Done Sleeping...\n",
      "Finished in 1.01 second(s)\n"
     ]
    }
   ],
   "source": [
    "import concurrent.futures\n",
    "import time\n",
    "\n",
    "start = time.perf_counter()\n",
    "\n",
    "\n",
    "def do_something(seconds):\n",
    "    print(f'Sleeping {seconds} second(s)...')\n",
    "    time.sleep(seconds)\n",
    "    return 'Done Sleeping...'\n",
    "\n",
    "\n",
    "with concurrent.futures.ThreadPoolExecutor() as executor:\n",
    "    f1 = executor.submit(do_something, 1)\n",
    "    f2 = executor.submit(do_something, 1)\n",
    "    print(f1.result())\n",
    "    print(f2.result())\n",
    "\n",
    "\n",
    "finish = time.perf_counter()\n",
    "print(f'Finished in {round(finish-start, 2)} second(s)')"
   ]
  },
  {
   "cell_type": "code",
   "execution_count": 19,
   "metadata": {},
   "outputs": [
    {
     "name": "stdout",
     "output_type": "stream",
     "text": [
      "Sleeping 5 second(s)...\n",
      "Sleeping 4 second(s)...\n",
      "Sleeping 3 second(s)...\n",
      "Sleeping 2 second(s)...\n",
      "Sleeping 1 second(s)...\n",
      "Done Sleeping...1\n",
      "Done Sleeping...2\n",
      "Done Sleeping...3\n",
      "Done Sleeping...4\n",
      "Done Sleeping...5\n",
      "Finished in 5.01 second(s)\n"
     ]
    }
   ],
   "source": [
    "import concurrent.futures\n",
    "import time\n",
    "\n",
    "start = time.perf_counter()\n",
    "\n",
    "\n",
    "def do_something(seconds):\n",
    "    print(f'Sleeping {seconds} second(s)...')\n",
    "    time.sleep(seconds)\n",
    "    return f'Done Sleeping...{seconds}'\n",
    "\n",
    "\n",
    "with concurrent.futures.ThreadPoolExecutor() as executor:\n",
    "    secs = [5,4,3,2,1]\n",
    "    results = [executor.submit(do_something, sec) for sec in secs]\n",
    "\n",
    "    for f in concurrent.futures.as_completed(results):\n",
    "        print(f.result())\n",
    "    \n",
    "\n",
    "\n",
    "finish = time.perf_counter()\n",
    "print(f'Finished in {round(finish-start, 2)} second(s)')"
   ]
  },
  {
   "cell_type": "code",
   "execution_count": 25,
   "metadata": {},
   "outputs": [
    {
     "ename": "BrokenProcessPool",
     "evalue": "A process in the process pool was terminated abruptly while the future was running or pending.",
     "output_type": "error",
     "traceback": [
      "\u001b[1;31m---------------------------------------------------------------------------\u001b[0m",
      "\u001b[1;31mBrokenProcessPool\u001b[0m                         Traceback (most recent call last)",
      "\u001b[1;32mc:\\Users\\chris\\source\\repos\\behaviour_recognition\\behaviour_recognition\\multi_threading_example.ipynb Cell 10\u001b[0m in \u001b[0;36m<cell line: 13>\u001b[1;34m()\u001b[0m\n\u001b[0;32m     <a href='vscode-notebook-cell:/c%3A/Users/chris/source/repos/behaviour_recognition/behaviour_recognition/multi_threading_example.ipynb#ch0000012?line=15'>16</a>\u001b[0m     \u001b[39m#results = executor.map(do_something, secs)\u001b[39;00m\n\u001b[0;32m     <a href='vscode-notebook-cell:/c%3A/Users/chris/source/repos/behaviour_recognition/behaviour_recognition/multi_threading_example.ipynb#ch0000012?line=17'>18</a>\u001b[0m     \u001b[39mfor\u001b[39;00m f \u001b[39min\u001b[39;00m concurrent\u001b[39m.\u001b[39mfutures\u001b[39m.\u001b[39mas_completed(results):\n\u001b[1;32m---> <a href='vscode-notebook-cell:/c%3A/Users/chris/source/repos/behaviour_recognition/behaviour_recognition/multi_threading_example.ipynb#ch0000012?line=18'>19</a>\u001b[0m         \u001b[39mprint\u001b[39m(f\u001b[39m.\u001b[39;49mresult())\n\u001b[0;32m     <a href='vscode-notebook-cell:/c%3A/Users/chris/source/repos/behaviour_recognition/behaviour_recognition/multi_threading_example.ipynb#ch0000012?line=21'>22</a>\u001b[0m finish \u001b[39m=\u001b[39m time\u001b[39m.\u001b[39mperf_counter()\n\u001b[0;32m     <a href='vscode-notebook-cell:/c%3A/Users/chris/source/repos/behaviour_recognition/behaviour_recognition/multi_threading_example.ipynb#ch0000012?line=23'>24</a>\u001b[0m \u001b[39mprint\u001b[39m(\u001b[39mf\u001b[39m\u001b[39m'\u001b[39m\u001b[39mFinished in \u001b[39m\u001b[39m{\u001b[39;00m\u001b[39mround\u001b[39m(finish\u001b[39m-\u001b[39mstart, \u001b[39m2\u001b[39m)\u001b[39m}\u001b[39;00m\u001b[39m second(s)\u001b[39m\u001b[39m'\u001b[39m)\n",
      "File \u001b[1;32mc:\\Users\\chris\\Anaconda3\\envs\\computer_vision\\lib\\concurrent\\futures\\_base.py:439\u001b[0m, in \u001b[0;36mFuture.result\u001b[1;34m(self, timeout)\u001b[0m\n\u001b[0;32m    437\u001b[0m     \u001b[39mraise\u001b[39;00m CancelledError()\n\u001b[0;32m    438\u001b[0m \u001b[39melif\u001b[39;00m \u001b[39mself\u001b[39m\u001b[39m.\u001b[39m_state \u001b[39m==\u001b[39m FINISHED:\n\u001b[1;32m--> 439\u001b[0m     \u001b[39mreturn\u001b[39;00m \u001b[39mself\u001b[39;49m\u001b[39m.\u001b[39;49m__get_result()\n\u001b[0;32m    441\u001b[0m \u001b[39mself\u001b[39m\u001b[39m.\u001b[39m_condition\u001b[39m.\u001b[39mwait(timeout)\n\u001b[0;32m    443\u001b[0m \u001b[39mif\u001b[39;00m \u001b[39mself\u001b[39m\u001b[39m.\u001b[39m_state \u001b[39min\u001b[39;00m [CANCELLED, CANCELLED_AND_NOTIFIED]:\n",
      "File \u001b[1;32mc:\\Users\\chris\\Anaconda3\\envs\\computer_vision\\lib\\concurrent\\futures\\_base.py:391\u001b[0m, in \u001b[0;36mFuture.__get_result\u001b[1;34m(self)\u001b[0m\n\u001b[0;32m    389\u001b[0m \u001b[39mif\u001b[39;00m \u001b[39mself\u001b[39m\u001b[39m.\u001b[39m_exception:\n\u001b[0;32m    390\u001b[0m     \u001b[39mtry\u001b[39;00m:\n\u001b[1;32m--> 391\u001b[0m         \u001b[39mraise\u001b[39;00m \u001b[39mself\u001b[39m\u001b[39m.\u001b[39m_exception\n\u001b[0;32m    392\u001b[0m     \u001b[39mfinally\u001b[39;00m:\n\u001b[0;32m    393\u001b[0m         \u001b[39m# Break a reference cycle with the exception in self._exception\u001b[39;00m\n\u001b[0;32m    394\u001b[0m         \u001b[39mself\u001b[39m \u001b[39m=\u001b[39m \u001b[39mNone\u001b[39;00m\n",
      "\u001b[1;31mBrokenProcessPool\u001b[0m: A process in the process pool was terminated abruptly while the future was running or pending."
     ]
    }
   ],
   "source": [
    "import concurrent.futures\n",
    "import time\n",
    "\n",
    "start = time.perf_counter()\n",
    "\n",
    "\n",
    "def do_something(seconds):\n",
    "    print(f'Sleeping {seconds} second(s)...')\n",
    "    time.sleep(seconds)\n",
    "    return f'Done Sleeping...{seconds}'\n",
    "\n",
    "\n",
    "with concurrent.futures.ProcessPoolExecutor() as executor:\n",
    "    secs = [5, 4, 3, 2, 1]\n",
    "    results = [executor.submit(do_something, sec) for sec in secs]\n",
    "    #results = executor.map(do_something, secs)\n",
    "\n",
    "    #for f in concurrent.futures.as_completed(results):\n",
    "    #    print(f.result())\n",
    "\n",
    "\n",
    "finish = time.perf_counter()\n",
    "\n",
    "print(f'Finished in {round(finish-start, 2)} second(s)')"
   ]
  },
  {
   "cell_type": "markdown",
   "metadata": {},
   "source": [
    "## Multi-Threading use data from a thread in another thread"
   ]
  },
  {
   "cell_type": "code",
   "execution_count": 31,
   "metadata": {},
   "outputs": [
    {
     "name": "stdout",
     "output_type": "stream",
     "text": [
      "True\n",
      "True\n",
      "True\n",
      "True\n",
      "True\n",
      "True\n",
      "True\n",
      "True\n",
      "True\n",
      "True\n",
      "True\n",
      "True\n",
      "True\n",
      "True\n",
      "True\n",
      "True\n",
      "True\n",
      "True\n",
      "True\n",
      "True\n"
     ]
    }
   ],
   "source": [
    "import time\n",
    "import threading\n",
    "\n",
    "available = False\n",
    "\n",
    "def thread1():\n",
    "    global available\n",
    "    while True:\n",
    "        # TODO: call API\n",
    "        # --------------\n",
    "\n",
    "        available = True # set available True after API call\n",
    "        time.sleep(5) # perform API calls after every 5 seconds\n",
    "        print(available)\n",
    "\n",
    "def thread2():\n",
    "    while True:\n",
    "        # TODO: perform ping\n",
    "        # --------------\n",
    "\n",
    "        # perform ping request after every 5 seconds\n",
    "        time.sleep(5)\n",
    "\n",
    "if __name__ == \"__main__\":\n",
    "    t1 = threading.Thread(target=thread1, name=\"thread1\")\n",
    "    t2 = threading.Thread(target=thread2, name=\"thread2\")\n",
    "\n",
    "    t1.start()\n",
    "    t1.join()\n",
    "\n",
    "    while not available:\n",
    "        time.sleep(0.1)\n",
    "    else:\n",
    "        t2.start()"
   ]
  },
  {
   "cell_type": "markdown",
   "metadata": {},
   "source": [
    "## Multithreading sharing variable\n",
    "https://stackoverflow.com/questions/17774768/python-creating-a-shared-variable-between-threads"
   ]
  },
  {
   "cell_type": "code",
   "execution_count": 2,
   "metadata": {},
   "outputs": [
    {
     "data": {
      "text/plain": [
       "array([5, 7, 9, 1, 2, 1])"
      ]
     },
     "execution_count": 2,
     "metadata": {},
     "output_type": "execute_result"
    }
   ],
   "source": [
    "import numpy as np\n",
    "np.random.randint(10,size=np.random.randint(10))\n"
   ]
  },
  {
   "cell_type": "code",
   "execution_count": 1,
   "metadata": {},
   "outputs": [
    {
     "name": "stdout",
     "output_type": "stream",
     "text": [
      "A: val=0\n",
      "Time: 22-08-09 07:18:45.545099  B: val= [0 6 4 7 9 3 8 5]\n",
      "A: val=0\n",
      "Time: 22-08-09 07:18:47.554558  B: val= [6]\n",
      "A: val=0\n",
      "Time: 22-08-09 07:18:49.562732  B: val= [3 9]\n",
      "A: val=0\n",
      "Time: 22-08-09 07:18:51.565677  B: val= []\n",
      "A: val=0\n",
      "Time: 22-08-09 07:18:53.576557  B: val= [5 0 7 9 5 4]\n"
     ]
    }
   ],
   "source": [
    "import threading\n",
    "import time\n",
    "import numpy as np\n",
    "import datetime\n",
    "\n",
    "\n",
    "c = threading.Condition()\n",
    "flag = 0      #shared between Thread_A and Thread_B\n",
    "val = 0\n",
    "count = 0\n",
    "\n",
    "class Thread_A(threading.Thread):\n",
    "    def __init__(self, name):\n",
    "        threading.Thread.__init__(self)\n",
    "        self.name = name\n",
    "\n",
    "    def run(self):\n",
    "        global flag\n",
    "        global val     #made global here\n",
    "        global count     \n",
    "        while count < 5:\n",
    "            c.acquire()\n",
    "            if flag == 0:\n",
    "                print(\"A: val=\" + str(val))\n",
    "                #time.sleep(0.1)\n",
    "                flag = 1\n",
    "                val = np.random.randint(10,size=np.random.randint(10))\n",
    "                c.notify_all()\n",
    "            else:\n",
    "                c.wait()\n",
    "            c.release()\n",
    "\n",
    "\n",
    "class Thread_B(threading.Thread):\n",
    "    def __init__(self, name):\n",
    "        threading.Thread.__init__(self)\n",
    "        self.name = name\n",
    "\n",
    "    def run(self):\n",
    "        global flag\n",
    "        global val    #made global here\n",
    "        global count \n",
    "        while count < 5:\n",
    "            c.acquire()\n",
    "            if flag == 1:\n",
    "                timestamp = datetime.datetime.now().strftime('%y-%m-%d %H:%M:%S.%f')\n",
    "                print(\"Time: {0}  B: val= {1}\".format(timestamp, str(val)))\n",
    "                time.sleep(2)\n",
    "                flag = 0\n",
    "                val = 0\n",
    "                count += 1\n",
    "                c.notify_all()\n",
    "            else:\n",
    "                c.wait()\n",
    "            c.release()\n",
    "\n",
    "\n",
    "\n",
    "a = Thread_A(\"myThread_name_A\")\n",
    "b = Thread_B(\"myThread_name_B\")\n",
    "\n",
    "\n",
    "a.start()\n",
    "threading.Timer(1, b)#.start()\n",
    "b.start()\n",
    "\n",
    "\n",
    "a.join()\n",
    "b.join()"
   ]
  },
  {
   "cell_type": "code",
   "execution_count": 2,
   "metadata": {},
   "outputs": [],
   "source": [
    "import datetime"
   ]
  },
  {
   "cell_type": "code",
   "execution_count": 6,
   "metadata": {},
   "outputs": [
    {
     "name": "stdout",
     "output_type": "stream",
     "text": [
      "Time: 22-08-08 07:37:06.420565\n"
     ]
    }
   ],
   "source": [
    "timestamp = datetime.datetime.now().strftime('%y-%m-%d %H:%M:%S.%f')\n",
    "\n",
    "print('Time: {0}'.format(timestamp))"
   ]
  },
  {
   "cell_type": "code",
   "execution_count": null,
   "metadata": {},
   "outputs": [],
   "source": []
  },
  {
   "cell_type": "code",
   "execution_count": null,
   "metadata": {},
   "outputs": [],
   "source": []
  }
 ],
 "metadata": {
  "kernelspec": {
   "display_name": "Python 3.9.12 ('computer_vision')",
   "language": "python",
   "name": "python3"
  },
  "language_info": {
   "codemirror_mode": {
    "name": "ipython",
    "version": 3
   },
   "file_extension": ".py",
   "mimetype": "text/x-python",
   "name": "python",
   "nbconvert_exporter": "python",
   "pygments_lexer": "ipython3",
   "version": "3.9.12"
  },
  "orig_nbformat": 4,
  "vscode": {
   "interpreter": {
    "hash": "0777b629fee9d2d81ecef945347a78c44178a54bd3f588c64ea08ff012c2b82a"
   }
  }
 },
 "nbformat": 4,
 "nbformat_minor": 2
}
